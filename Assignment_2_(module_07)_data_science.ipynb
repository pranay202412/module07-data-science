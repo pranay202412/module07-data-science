{
  "nbformat": 4,
  "nbformat_minor": 0,
  "metadata": {
    "colab": {
      "provenance": []
    },
    "kernelspec": {
      "name": "python3",
      "display_name": "Python 3"
    },
    "language_info": {
      "name": "python"
    }
  },
  "cells": [
    {
      "cell_type": "code",
      "source": [
        "# problem no :- 1\n",
        "\n",
        "\"\"\"\n",
        "Explain the importance of Functions\n",
        "\n",
        "\"\"\"\n",
        "\n",
        "#solution:-\n",
        "\n",
        "\"\"\"\n",
        "Function are like a building a blocks in programming that helps breakdown the\n",
        "tasks in smaller functions.\n",
        "\n",
        "Also , function makes our code understandable, readable , reusable  ,clarity in code ,\n",
        "imporve efficiency of code and many more.\n",
        "\n",
        "The more and more data and numbers we feed the efficiency will improve and save the time\n",
        "\n",
        "\"\"\"\n",
        "\n"
      ],
      "metadata": {
        "id": "dfwEZSbK0ChX"
      },
      "execution_count": null,
      "outputs": []
    },
    {
      "cell_type": "code",
      "source": [
        "#Problem no 2:\n",
        "\"\"\"\n",
        "Write a basic function to greet students.\n",
        "\n",
        "\"\"\"\n",
        "\n",
        "#solution;-\n",
        "\n",
        "def Student():\n",
        "  name = input(\"Enter your name:-\")\n",
        "  print(\"welcome to PW skill \",name)\n",
        "\n",
        "  \"\"\"\n",
        "  step 1:- create a variable name student\n",
        "  step 2:- by using input method ask student to enter a name\n",
        "  step 3:- greet students with their name\n",
        "\n",
        "  \"\"\"\n"
      ],
      "metadata": {
        "id": "0-669ptzuQUf"
      },
      "execution_count": null,
      "outputs": []
    },
    {
      "cell_type": "code",
      "source": [
        "#problem no 3:-\n",
        "\n",
        "\"\"\"\n",
        "\n",
        "what is the difference between print and return statement\n",
        "\n",
        "\"\"\"\n",
        "\n",
        "#Solution:-\n",
        "\n",
        "\"\"\"\n",
        "print ;- print statement is used to display the information on a console or standard output\n",
        "\n",
        "return :- return statement is used to exit a function and return a value to a caller\n",
        "\n",
        "\"\"\"\n"
      ],
      "metadata": {
        "id": "1LjBwRCjz8oA"
      },
      "execution_count": null,
      "outputs": []
    },
    {
      "cell_type": "code",
      "source": [
        "# Problem number 4:-\n",
        "\n",
        "\"\"\"\n",
        "What is *args and **kwargs\n",
        "\n",
        "\"\"\"\n",
        "\n",
        "#solution:-\n",
        "\"\"\"\n",
        "*args :- args is used to pass a variable number of non-keyword argument to a function\n",
        "\n",
        "**kwargs:- kwargs is used to pass a variable number , of keyboard argument to a function\n",
        "also it is used to pass a key , value pair in a function\n"
      ],
      "metadata": {
        "colab": {
          "base_uri": "https://localhost:8080/",
          "height": 36
        },
        "id": "vXtyuyx1RG99",
        "outputId": "68f0ce27-a1f4-4273-8fbe-92ac65a48bc4"
      },
      "execution_count": null,
      "outputs": [
        {
          "output_type": "execute_result",
          "data": {
            "text/plain": [
              "'\\nWhat is *args and **kwargs\\n\\n'"
            ],
            "application/vnd.google.colaboratory.intrinsic+json": {
              "type": "string"
            }
          },
          "metadata": {},
          "execution_count": 16
        }
      ]
    },
    {
      "cell_type": "code",
      "source": [
        "#problem no 5\n",
        "\n",
        "\"\"\"\n",
        "  Explain the iterator function\n",
        "\n",
        "  \"\"\"\n",
        "\n",
        "#solution:-\n",
        "\n",
        "\"\"\"\n",
        "In python  the iterator function is used to create an iterator object from a iterable object.\n",
        "An iterable object is any capable of returning its elements one at a time ,\n",
        "such as lists ,tuples ,dictionaries and strings.\n",
        "\n",
        "\"\"\"\n"
      ],
      "metadata": {
        "id": "PkufGO3bgZkP"
      },
      "execution_count": null,
      "outputs": []
    },
    {
      "cell_type": "code",
      "source": [
        "#problem no 6:-\n",
        "\n",
        "\"\"\"\n",
        "Write a code that generates the squares of numbers from 1 to n using\n",
        "a generator\n",
        "\n",
        " \"\"\"\n",
        " #soulution :-\n",
        "\n",
        "def square_numbers(n):\n",
        "  for i in range(n):\n",
        "   yield i ** 2\n",
        "\n",
        "\n",
        "square_numbers(5)"
      ],
      "metadata": {
        "id": "gzkcurc6gkTI",
        "colab": {
          "base_uri": "https://localhost:8080/"
        },
        "outputId": "618f105a-a60e-4cf5-f864-d7b14e7c9d4f"
      },
      "execution_count": null,
      "outputs": [
        {
          "output_type": "execute_result",
          "data": {
            "text/plain": [
              "<generator object square_numbers at 0x7ebeade5d2a0>"
            ]
          },
          "metadata": {},
          "execution_count": 11
        }
      ]
    },
    {
      "cell_type": "code",
      "source": [
        "gen = square_numbers(5)"
      ],
      "metadata": {
        "id": "6AtZPsutNXOv"
      },
      "execution_count": null,
      "outputs": []
    },
    {
      "cell_type": "code",
      "source": [
        "next(gen)"
      ],
      "metadata": {
        "colab": {
          "base_uri": "https://localhost:8080/"
        },
        "id": "ijDKt9uoNdJ4",
        "outputId": "bcd52f14-4b9a-4a05-d7b7-7d58b7c2d23d"
      },
      "execution_count": null,
      "outputs": [
        {
          "output_type": "execute_result",
          "data": {
            "text/plain": [
              "0"
            ]
          },
          "metadata": {},
          "execution_count": 13
        }
      ]
    },
    {
      "cell_type": "code",
      "source": [
        "next(gen)"
      ],
      "metadata": {
        "colab": {
          "base_uri": "https://localhost:8080/"
        },
        "id": "0GBHFLbJNkCm",
        "outputId": "1f94a173-4ed5-46a2-fe12-70a52202b59c"
      },
      "execution_count": null,
      "outputs": [
        {
          "output_type": "execute_result",
          "data": {
            "text/plain": [
              "1"
            ]
          },
          "metadata": {},
          "execution_count": 15
        }
      ]
    },
    {
      "cell_type": "code",
      "source": [
        "next(gen)"
      ],
      "metadata": {
        "colab": {
          "base_uri": "https://localhost:8080/"
        },
        "id": "NZH8MNdQNkOP",
        "outputId": "c9047249-a9ee-476c-86bc-96f650ca6d00"
      },
      "execution_count": null,
      "outputs": [
        {
          "output_type": "execute_result",
          "data": {
            "text/plain": [
              "4"
            ]
          },
          "metadata": {},
          "execution_count": 16
        }
      ]
    },
    {
      "cell_type": "code",
      "source": [
        "next(gen)"
      ],
      "metadata": {
        "colab": {
          "base_uri": "https://localhost:8080/"
        },
        "id": "ze064UgvNkiv",
        "outputId": "34131c20-5aa7-415f-f816-0d333674cbfc"
      },
      "execution_count": null,
      "outputs": [
        {
          "output_type": "execute_result",
          "data": {
            "text/plain": [
              "9"
            ]
          },
          "metadata": {},
          "execution_count": 17
        }
      ]
    },
    {
      "cell_type": "code",
      "source": [
        "#problem no 7:-\n",
        "\n",
        "\"\"\"\n",
        "write a code that generates palindromic numbers up to n using generator\n",
        "\n",
        "\"\"\"\n",
        "\n",
        "#soultion:-\n",
        "\n",
        "def is_palindrome(num):\n",
        "  return str(num) == str(num)[::-1]\n",
        "\n",
        "\n",
        "def generate_palindromic_numbers(n):\n",
        "  for num in range(n):\n",
        "    if is_palindrome(num):\n",
        "      yield num\n",
        "n = int(input(\"Enter the numbers here:- \"))\n",
        "\n",
        "print(\"Palindrome number:- \",n, \" : \")\n",
        "\n",
        "for palindrome in generate_palindromic_numbers(n):\n",
        "  print(palindrome)\n",
        "\n",
        "\n",
        "\n",
        "\n"
      ],
      "metadata": {
        "id": "hbPaDhW2g4wU"
      },
      "execution_count": null,
      "outputs": []
    },
    {
      "cell_type": "code",
      "source": [
        "#problem no 8;-\n",
        "\n",
        "\"\"\"\n",
        "Write a code that generates even numbers from 2 to n using a generator\n",
        "\n",
        "\"\"\"\n",
        "#solution:-\n",
        "\n",
        "def even_numbers(n):\n",
        "  for i in range(n):\n",
        "    yield i %2 == 0\n",
        "\n",
        "\n",
        "even_numbers(123321)\n",
        "even = even_numbers(4)\n",
        "next(even)"
      ],
      "metadata": {
        "id": "MKtV8bXRhZga"
      },
      "execution_count": null,
      "outputs": []
    },
    {
      "cell_type": "code",
      "source": [
        "#problem no 9:-\n",
        "\n",
        "\"\"\"\n",
        "Write a code that generates powers of two up to n using a generator\n",
        "\n",
        "\"\"\"\n",
        "\n",
        "#solution:-\n",
        "\n",
        "def power_numbers(n):\n",
        "  power = 1\n",
        "\n",
        "  while power <= 1:\n",
        "    yield power\n",
        "    power *=2\n",
        "\n",
        "n = 16\n",
        "for result in power_numbers(n):\n",
        "  print(result)\n"
      ],
      "metadata": {
        "id": "0kaDWrtQhnHc",
        "colab": {
          "base_uri": "https://localhost:8080/"
        },
        "outputId": "ed91a429-112c-48d2-901b-b436f32ee428"
      },
      "execution_count": null,
      "outputs": [
        {
          "output_type": "stream",
          "name": "stdout",
          "text": [
            "1\n"
          ]
        }
      ]
    },
    {
      "cell_type": "code",
      "source": [],
      "metadata": {
        "id": "oJB345qkdy3y"
      },
      "execution_count": null,
      "outputs": []
    },
    {
      "cell_type": "code",
      "source": [
        "#problem no 10:-\n",
        "\n",
        "\"\"\"\n",
        " Write a code that generates prime numbers up to n using a generator\n",
        "\n",
        " \"\"\"\n",
        "\n",
        " #solution:-\n",
        "\n",
        "def is_prime(num):\n",
        "    if num <= 1:\n",
        "      return False\n",
        "    for i in range(2,num+1):\n",
        "     if num % i == 0 :\n",
        "      return False\n",
        "    return True\n",
        "\n",
        "def prime_numbers(n):\n",
        "  for num in range(2,n+1):\n",
        "    if is_prime(num):\n",
        "      yield num\n",
        "\n",
        "d = prime_numbers(10)\n",
        "for d in prime_numbers(n):\n",
        "    print(d, end = ' ')\n",
        "\n",
        "\n"
      ],
      "metadata": {
        "id": "HhKzV3Nwhz7H"
      },
      "execution_count": null,
      "outputs": []
    },
    {
      "cell_type": "code",
      "source": [
        "#problem no 11:-\n",
        "\n",
        "\"\"\"\n",
        "Write a code that uses a lambda function to calculate the sum of two numbers\n",
        "\n",
        "\"\"\"\n",
        "\n",
        "#solution:-\n",
        "\n",
        "addition = lambda a,b:a+b\n",
        "\n",
        "addition(3,5)\n",
        "\n"
      ],
      "metadata": {
        "id": "cVpJbGZiiKRC"
      },
      "execution_count": null,
      "outputs": []
    },
    {
      "cell_type": "code",
      "source": [
        "#problem no 12:-\n",
        "\n",
        "\"\"\"\n",
        "Write a code that uses a lambda function to calculate the square of a given number\n",
        "\n",
        "\"\"\"\n",
        "#solution:-\n",
        "\n",
        "square_number = lambda x: x **2\n",
        "\n"
      ],
      "metadata": {
        "id": "A-U6nwFsiXHn"
      },
      "execution_count": null,
      "outputs": []
    },
    {
      "cell_type": "code",
      "source": [
        "#problem no 13:-\n",
        "\"\"\"\n",
        "Write a code that uses a lambda function to check whether a given number\n",
        " is even or odd\n",
        "\n",
        "\"\"\"\n",
        "\n",
        "#solution:-\n",
        "\n",
        "      even_or_odd = lambda n: \"Even number\" if i %2 == 0 else \"odd number\"\n"
      ],
      "metadata": {
        "id": "PhtyzzegijyL"
      },
      "execution_count": null,
      "outputs": []
    },
    {
      "cell_type": "code",
      "source": [
        "#problem no 15:-\n",
        "\"\"\"\n",
        " Write a code that uses a lambda function to concatenate two strings\n",
        "\n",
        "\"\"\"\n",
        "\n",
        "#solution:-\n",
        "\n",
        " concatnate = lambda a,b : a +b\n",
        "\n",
        "a = \"Pranay\"\n",
        "b = \"Bhoyar\"\n"
      ],
      "metadata": {
        "id": "JBncq0C0jBg8"
      },
      "execution_count": null,
      "outputs": []
    },
    {
      "cell_type": "code",
      "source": [
        "#problem no 16:-\n",
        "\"\"\"\n",
        "Write a code that uses a lambda function to find the maximum of three given numbers\n",
        "\n",
        "\"\"\"\n",
        "\n",
        "#solution:-\n",
        "\n",
        "lambda a , b , c : a if a > b and a > c else (y if y > z else z)\n",
        "\n",
        "\n"
      ],
      "metadata": {
        "id": "4NaPd9e1jHTy"
      },
      "execution_count": null,
      "outputs": []
    },
    {
      "cell_type": "code",
      "source": [
        "#problem no 17:-\n",
        "\"\"\"\n",
        "Write a code that generates the squares of even numbers from a given list\n",
        "\n",
        "\n",
        "\"\"\"\n",
        "\n",
        "#solution:-\n",
        "\n",
        "def square_numbers(e):\n",
        "    num = []\n",
        "\n",
        "    for i in range(e):\n",
        "        if i % 2 == 0:\n",
        "            num.append(i ** 2)\n",
        "    return num\n",
        "\n",
        "\n",
        "\n",
        "square_numbers(5)\n"
      ],
      "metadata": {
        "id": "xyZVnXkHjTGb"
      },
      "execution_count": null,
      "outputs": []
    },
    {
      "cell_type": "code",
      "source": [
        "#problem no 18:-\n",
        "\n",
        "\"\"\"\n",
        "Write a code that calculates the product of positive numbers from a given list\n",
        "\n",
        "\"\"\"\n",
        "\n",
        "#solution:-\n",
        "\n",
        "def product_of_positive_numbers(numbers):\n",
        "  product = 1\n",
        "  for num in numbers:\n",
        "      if num > 0 :\n",
        "\n",
        "          product *= num\n",
        "  return product\n",
        "\n",
        "\n",
        "x = [2,4,6,8,10]\n",
        "result = product_of_positive_numbers(x)\n",
        "\n",
        "print(\"product of positive numbers :- \",result)\n",
        "\n",
        "\n",
        "\n",
        "\n"
      ],
      "metadata": {
        "id": "xpoJSegFjbyy"
      },
      "execution_count": null,
      "outputs": []
    },
    {
      "cell_type": "code",
      "source": [
        "#problem no :- 19\n",
        "\n",
        "\"\"\"\n",
        "Write a code that doubles the values of odd numbers from a given list.\n",
        "\"\"\"\n",
        "\n",
        "#Solution:-\n",
        "\n",
        "def values(l):\n",
        "  text = []\n",
        "  for i in l:\n",
        "    if i % 2 != 0:\n",
        "      text.append(i*2)\n",
        "  return text\n",
        "\n",
        "\n",
        "  given_list = [1,2,4,5,6,7,8,4,23,45,33,22]\n",
        "values = values(given_list)"
      ],
      "metadata": {
        "id": "ZQtJ8pqGZg3p"
      },
      "execution_count": null,
      "outputs": []
    },
    {
      "cell_type": "code",
      "source": [
        "#problem no 20:-\n",
        "\n",
        "\"\"\"\n",
        "Write a code that calculates the sum of cubes of numbers from a given list\n",
        "\n",
        "\"\"\"\n",
        "\n",
        "#solution:-\n",
        "\"\"\"\n",
        "def sum_of_cubes(number_s):\n",
        "    cube_sum = 0\n",
        "    for nu_m in number_s:\n",
        "        cube_sum += nu_m ** 3\n",
        "    return cube_sum\n",
        "\n",
        "\n",
        "\n",
        "   \"\"\"\n",
        "\n",
        "\n",
        "a = int(input(\"Enter the number here: - \"))\n",
        "sum = 0\n",
        "while a>0:\n",
        "  sum = sum+(a%10)*(a%10)*(a%10)\n",
        "  a = a // 10\n",
        "  print(\"The sum of cubes of number:- \" , sum)\n"
      ],
      "metadata": {
        "id": "qGQ8GPolj4tg"
      },
      "execution_count": null,
      "outputs": []
    },
    {
      "cell_type": "code",
      "source": [
        "#problem no 21:-\n",
        "\n",
        "\"\"\"\n",
        "Write a code that filters out prime numbers from a given list\n",
        "\n",
        "\"\"\"\n",
        "\n",
        "#solution:-\n",
        "\n",
        "def is_prime_numbers(num):\n",
        "  if num< 2:\n",
        "    return False\n",
        "\n",
        "  for i in range(2,int(num ** 0.5)+1):\n",
        "     if num % i == 0 :\n",
        "      return False\n",
        "    return True\n",
        "\n",
        "def filter_prime_numbers(numbers):\n",
        "  primes = []\n",
        "  for num in numbers:\n",
        "    if is_prime(num):\n",
        "      primes.append(num)\n",
        "  return primes\n",
        "\n",
        "\n",
        "\n"
      ],
      "metadata": {
        "id": "_NJYI5P5kCv7"
      },
      "execution_count": null,
      "outputs": []
    },
    {
      "cell_type": "code",
      "source": [
        "#problem no 22:-\n",
        "\n",
        "\"\"\"\n",
        "Write a code that uses a lambda function to calculate the sum of two numbers\n",
        "\n",
        "\"\"\"\n",
        "\n",
        "#solution:-\n",
        "\n",
        "\n",
        "sum_of_two_numbers = lambda a,b:a+b\n",
        "\n",
        "sum_of_two_numbers(5,2)\n",
        "\n",
        "\n"
      ],
      "metadata": {
        "id": "UfXgZCpskJq5"
      },
      "execution_count": null,
      "outputs": []
    },
    {
      "cell_type": "code",
      "source": [
        "#problem no 23:-\n",
        "\n",
        "\"\"\"\n",
        "Write a code that uses a lambda function to calculate the square of a given number\n",
        "\n",
        "\n",
        "\"\"\"\n",
        "\n",
        "#solution:-\n",
        "\n",
        "\n",
        "square_num = lambda x : x ** 2\n",
        "\n",
        "square_num(2)\n",
        "\n",
        "\n"
      ],
      "metadata": {
        "id": "OIy3YM0-kQS7"
      },
      "execution_count": null,
      "outputs": []
    },
    {
      "cell_type": "code",
      "source": [
        "#problem no 24:-\n",
        "\n",
        "\"\"\"\n",
        "Write a code that uses a lambda function to check\n",
        " whether a given number is even or odd\n",
        "\n",
        "\"\"\"\n",
        "\n",
        "#solution:-\n",
        "\n",
        "\"\"\"def numbers(n):\n",
        "  for i in range(n):\n",
        "    if i % 2 == 0:\n",
        "      print(\"Even number:- \" , i)\n",
        "    else:\n",
        "      print(\"Odd number;-\" , i)\"\"\"\n",
        "\n",
        "\n",
        "      even_or_odd = lambda n: \"Even number\" if i %2 == 0 else \"odd number\"\n",
        "\n"
      ],
      "metadata": {
        "id": "92_EWFfTlCqM"
      },
      "execution_count": null,
      "outputs": []
    },
    {
      "cell_type": "code",
      "source": [
        "#problem no 25:-\n",
        "\n",
        "\"\"\"\n",
        "Write a code that uses a lambda function to concatenate two strings\n",
        "\n",
        "\"\"\"\n",
        "\n",
        "#solution:-\n",
        "\n",
        " concatnate = lambda a,b : a +b\n",
        "\n",
        "a = \"Pranay\"\n",
        "b = \"Bhoyar\"\n",
        "\n",
        "\n"
      ],
      "metadata": {
        "id": "_QWPmdqDlL1L"
      },
      "execution_count": null,
      "outputs": []
    },
    {
      "cell_type": "code",
      "source": [
        "#problem no 26:-\n",
        "\n",
        "\"\"\"\n",
        "Write a code that uses a lambda function to find the maximum of three given numbers\n",
        "\n",
        "\"\"\"\n",
        "\n",
        "#solution:-\n",
        "\n",
        "\n",
        "greater_number = lambda x , y, z : x if x > y and x > z else (y if y > z else z)\n",
        "\n"
      ],
      "metadata": {
        "id": "4otrNRoDlVVG"
      },
      "execution_count": null,
      "outputs": []
    },
    {
      "cell_type": "code",
      "source": [
        "#problem no 27:-\n",
        "\n",
        "\"\"\"\n",
        "What is encapsulation in OOP?\n",
        "\n",
        "\"\"\"\n",
        "\n",
        "#solution:-\n",
        "\n",
        "\"\"\"\n",
        "\n",
        "Encapsulation is a one of four fundamental concept of a object oriented programming.\n",
        "Encapsulation refers to building a data and methods that operate a data into single\n",
        "unit called class.\n",
        "\n",
        "Encapsulation hides the data from user .\n",
        "\n",
        "\"\"\"\n",
        "\n",
        "\n",
        "\n",
        "\n"
      ],
      "metadata": {
        "id": "miLRvoerlex-"
      },
      "execution_count": null,
      "outputs": []
    },
    {
      "cell_type": "code",
      "source": [
        "#problem no 28:-\n",
        "\n",
        "\"\"\"\n",
        "Explain the use of access modifiers in Python classes\n",
        "\n",
        "\n",
        "\"\"\"\n",
        "\n",
        "#solution:-\n",
        "\n",
        "\"\"\"\n",
        "In python, There are three types of access specfiers\n",
        "\n",
        "1:- public:-  In public access specfiers we can access the function, attributes\n",
        "outside the class ,\n",
        "\n",
        "From superclass to derived class\n",
        "\n",
        "2:- protected :- In protected access specfiers we can access the function , attributes\n",
        "between derived class  ' _protected '\n",
        "\n",
        "3:- Private :- In private access specfiers we can access the function data , attributes\n",
        "within the class itself  as it is private '__private__'\n",
        "\n",
        "\"\"\"\n",
        "\n",
        "\n",
        "\n"
      ],
      "metadata": {
        "id": "EzgADefBlnc0"
      },
      "execution_count": null,
      "outputs": []
    },
    {
      "cell_type": "code",
      "source": [
        "#problem no 29:-\n",
        "\n",
        "\"\"\"\n",
        " What is inheritance in OOP?\n",
        "\n",
        "\"\"\"\n",
        "\n",
        "#solution:-\n",
        "\n",
        "\"\"\"\n",
        "Inheritance in object oriented programming is a mechanism that allows a  class (called\n",
        "a subclass or derived class) to inherit the properties and behaviours (methods and attributes)\n",
        "of a another class (called a superclass or base class).\n",
        "Inheritance enables code reuse and promotes the creation of hierarchical\n",
        "relationships   between classes. \"\"\"\n"
      ],
      "metadata": {
        "id": "KDFpcmzglwzE"
      },
      "execution_count": null,
      "outputs": []
    },
    {
      "cell_type": "code",
      "source": [
        "#problem no 30:-\n",
        "\n",
        "\"\"\"\n",
        "Define polymorphism in OOP\n",
        "\n",
        "\"\"\"\n",
        "\n",
        "#solution:-\n",
        "\n",
        "\"\"\"\n",
        "\n",
        "In python polymerphism refers to the ability of different objects to resopnd to the\n",
        "same massage or method invocation in different ways . It allows object of different\n",
        "classes to be treated as objects of a common superclass, thereby enabling code to be\n",
        "written that operators on objects of various types.\n",
        "\n",
        "\"\"\"\n",
        "\n",
        "\n",
        "\n",
        "\n",
        "\n"
      ],
      "metadata": {
        "id": "5aToAq9ul4KZ"
      },
      "execution_count": null,
      "outputs": []
    },
    {
      "cell_type": "code",
      "source": [
        "#problem no 31:-\n",
        "\n",
        "\"\"\"\n",
        "\n",
        "Explain method overriding in Python\n",
        "\"\"\"\n",
        "\n",
        "#solution:-\n",
        "\n",
        "\n",
        "\"\"\"\n",
        "In Python method overriding we have done when we have already passing a method to the\n",
        "superclass and passing the same method to another class and initiating the program .\n",
        "\n",
        "\"\"\"\n",
        "\n",
        "\n",
        "\n",
        "\n",
        "\n"
      ],
      "metadata": {
        "id": "U5SLgvG7mCqL"
      },
      "execution_count": null,
      "outputs": []
    },
    {
      "cell_type": "code",
      "source": [
        "#problem no 32:-\n",
        "\n",
        "\"\"\"\n",
        "\n",
        "Define a parent class Animal with a method make_sound that prints \"Generic animal sound\". Create a\n",
        "child class Dog inheriting from Animal with a method make_sound that prints \"Woof!\n",
        "\n",
        "\"\"\"\n",
        "\n",
        "#solution:-\n",
        "\n",
        "\n",
        "class Animal:\n",
        "  def make_sound(self):\n",
        "    print(\"Generic animal sound\")\n",
        "\n",
        "class Dog(Animal):\n",
        "  def make_sound(self):\n",
        "    print(\"Woof\")\n",
        "\n",
        "\n",
        "\n"
      ],
      "metadata": {
        "id": "CsbpDA2BmMLD"
      },
      "execution_count": null,
      "outputs": []
    },
    {
      "cell_type": "code",
      "source": [
        "#problem no 33:-\n",
        "\n",
        "\"\"\"\n",
        "\n",
        "Define a method move in the Animal class that prints \"Animal moves\".\n",
        " Override the move method in the\n",
        "Dog class to print 'Dog runs.'\n",
        "\n",
        "\"\"\"\n",
        "\n",
        "#solution:-\n",
        "\n",
        "class Animal:\n",
        "  def move(self):\n",
        "    print(\"Animal moves\")\n",
        "\n",
        "class Dog(Animal):\n",
        "  def move(self):\n",
        "    print(\"Dog runs\")\n",
        "\n",
        "\n",
        "\n"
      ],
      "metadata": {
        "id": "wasAy0yMmWhj"
      },
      "execution_count": null,
      "outputs": []
    },
    {
      "cell_type": "code",
      "source": [
        "#problem no 34:-\n",
        "\n",
        "\"\"\"\n",
        "\n",
        "Create a class Mammal with a method reproduce that prints \"Giving birth to live young.\n",
        "\" Create a class\n",
        "DogMammal inheriting from both Dog and Mammal\n",
        "\n",
        "\"\"\"\n",
        "\n",
        "#solution:-\n",
        "\n",
        "class Mammal:\n",
        "  def reproduce(self):\n",
        "    print(\"Giving birth to live young.\")\n",
        "\n",
        "class Dog(Mammel):\n",
        "  def make_sound(self):\n",
        "    print(\"Bark\")\n",
        "\n",
        "class DogMallal(Mammal,Dog):\n",
        "  pass\n",
        "\n"
      ],
      "metadata": {
        "id": "lD5W4QIcmgqd"
      },
      "execution_count": null,
      "outputs": []
    },
    {
      "cell_type": "code",
      "source": [
        "#problem no 35:-\n",
        "\n",
        "\"\"\"\n",
        "\n",
        "Create a class GermanShepherd inheriting from Dog and override the make_sound method to print\n",
        "'Bark!'\n",
        "\n",
        "\"\"\"\n",
        "\n",
        "#solution:-\n",
        "\n",
        "class Dog:\n",
        "  def make_sound(self):\n",
        "    print(\"Woof\")\n",
        "\n",
        "class GermanShepherd(Dog):\n",
        "  def make_sound(self):\n",
        "    print(\"Bark\")\n",
        "\n",
        "\n",
        "\n"
      ],
      "metadata": {
        "id": "1rnGLnBtmr2N"
      },
      "execution_count": null,
      "outputs": []
    },
    {
      "cell_type": "code",
      "source": [
        "#problem no 36:-\n",
        "\n",
        "\"\"\"\n",
        "\n",
        "Define constructors in both the Animal and Dog classes with\n",
        "different initialization parameters\n",
        "\n",
        "\"\"\"\n",
        "\n",
        "#solution:-\n",
        "\n",
        "\n",
        "\"\"\"\n",
        "In python the Constructor are special method used to initializing objects when\n",
        "they are created . In case of classes the constructor used __init__.\n",
        "\n",
        "\"\"\"\n",
        "\n",
        "class Animal:\n",
        "  def __init__(self, species):\n",
        "    self.species = species\n",
        "\n",
        "class Dog(Animal):\n",
        "  def __init__(self, species ,breed):\n",
        "    super().__init__(species)\n",
        "    self.breed = breed\n",
        "\n",
        "animal = Animal(\"Cat\")\n",
        "print(animal.species)\n",
        "\n",
        "dog = Dog(\"Cat\", \"Pug\")\n",
        "print(dog.species)\n",
        "print(dog.breed)\n",
        "\n"
      ],
      "metadata": {
        "id": "xvYL0DBDm9ZO",
        "colab": {
          "base_uri": "https://localhost:8080/"
        },
        "outputId": "327b6fe2-7faa-4695-f8f9-06b42dba4351"
      },
      "execution_count": 41,
      "outputs": [
        {
          "output_type": "stream",
          "name": "stdout",
          "text": [
            "Cat\n",
            "Cat\n",
            "Pug\n"
          ]
        }
      ]
    },
    {
      "cell_type": "code",
      "source": [
        "#problem no 37:-\n",
        "\n",
        "\"\"\"\n",
        "\n",
        "What is abstraction in Python? How is it implemented\n",
        "\n",
        "\"\"\"\n",
        "\n",
        "#solution:-\n",
        "\n",
        "\"\"\"\n",
        "Abstraction means hiding the complex implementation and showing only the\n",
        "neccessary feature of an object\n",
        "\n",
        "\"\"\"\n",
        "#implementation:-\n",
        "\n",
        "class Mammal:\n",
        "  def my_method(self):\n",
        "    print(\"Giving birth to live young.\")\n",
        "\n",
        "class Dog(Mammal):\n",
        "  def my_method(self):\n",
        "    print(\"Woof\")\n",
        "\n",
        "class DogMammal(Mammal):\n",
        "  def my_method(self):\n",
        "    print(\"something different\")\n",
        "\n",
        "\n",
        "\n",
        "\n"
      ],
      "metadata": {
        "id": "JfZzjbXJnGQN"
      },
      "execution_count": null,
      "outputs": []
    },
    {
      "cell_type": "code",
      "source": [
        "#problem no 38:-\n",
        "\n",
        "\"\"\"\n",
        "Explain the importance of abstraction in object-oriented programming\n",
        "\n",
        "\"\"\"\n",
        "\n",
        "#solution:-\n",
        "\n",
        "\"\"\"\n",
        "\n",
        "Abstraction is the fundamental concept of object oriented programming, which helps\n",
        "programmer to make reusable , sustainable code , scalable software .\n",
        "\n",
        "By using abstraction we can show the external data to the user not internal.\n",
        "\n",
        "\n",
        "key features;-\n",
        "\n",
        "1:- Encapsulation of Complexity\n",
        "2:- Modularity\n",
        "3:- Code Reusability\n",
        "4:- Ease of Maintenance\n",
        "5:- Scalability\n",
        "\n",
        "\"\"\"\n"
      ],
      "metadata": {
        "id": "Sl3szM-4nPWS"
      },
      "execution_count": null,
      "outputs": []
    },
    {
      "cell_type": "markdown",
      "source": [],
      "metadata": {
        "id": "2xs7TON7vOgs"
      }
    },
    {
      "cell_type": "code",
      "source": [
        "#problem no 39:-\n",
        "\n",
        "\"\"\"\n",
        "How are abstract methods different from regular methods in Python\n",
        "\n",
        "\"\"\"\n",
        "\n",
        "#solution:-\n",
        "\"\"\"\n",
        "\n",
        "difference between  regular class and abstrace methods\n",
        "\n",
        "Purpose\n",
        "1:-Regular method are difined within a class and are meant to perform action\n",
        " or operation related to the classes objects.\n",
        "\n",
        "2:- Abstract methods:- Abstract method on the other hand are methods declared within\n",
        "a class but aare meant to be implemented by subclasses.\n",
        "\n",
        "\n",
        "Implementation\n",
        "\n",
        "1:- Regular method :- Regular method have a complete implementation defined within a\n",
        "method body. when you call a regular method on an object, it executed the code\n",
        "defined in the method.\n",
        "\n",
        "2:- Abstract method:- Abstract method dont have an implementation in the abstract base class.\n",
        "They are defined using the '@abstractmethod' decorator from the ' abc ' module.\n",
        "Subclass must provide their own implementation for theose method, or else they themselves become\n",
        " abstract classs.\n",
        "\n",
        "Usage:\n",
        "\n",
        " 1:- Regular method:-  Regular method are used to define the behavior of objects and are called directly\n",
        " on instances of the class.\n",
        "\n",
        " 2:- Abstract methods:- Abstract methods are used to define a contract that subclasses\n",
        " must adhere to. they provide a way to enforse certain behavior across different\n",
        " subclasses while allowing each subclaas to implement the behavior its own way.\n",
        "\n",
        "\"\"\"\n",
        "\n",
        "\n",
        "\n",
        "\n"
      ],
      "metadata": {
        "id": "6pCigsmTndyg"
      },
      "execution_count": null,
      "outputs": []
    },
    {
      "cell_type": "code",
      "source": [
        "#problem no 40:-\n",
        "\n",
        "\"\"\"\n",
        "How can you achieve abstraction using interfaces in Python\n",
        "\n",
        "\"\"\"\n",
        "\n",
        "#solution:-\n",
        "\n",
        "\"\"\"\n",
        "\n",
        "In python , you can achieve abstraction using interfaces by defining\n",
        "abstract base class(ABC). using the abc module. An interface in python\n",
        " is represented by an abstrace base method .\n",
        "\n",
        " \"\"\"\n",
        "\n",
        "\n",
        "\n",
        "\n",
        "\n",
        "\n",
        "\n"
      ],
      "metadata": {
        "id": "cofE3LgxnnOT"
      },
      "execution_count": null,
      "outputs": []
    },
    {
      "cell_type": "code",
      "source": [
        "#problem no 41:-\n",
        "\n",
        "\"\"\"\n",
        "\n",
        "Can you provide an example of how abstraction can be utilized to create a common interface for a group\n",
        "of related classes in Python.\n",
        "\n",
        "\"\"\"\n",
        "\n",
        "#solution:-\n",
        "\n",
        "from abc import ABC,abstractmethod\n",
        "\n",
        "class Vehicle(ABC):\n",
        "  @abstractmethod\n",
        "  def vehicle_sound(self):\n",
        "    pass\n",
        "\n",
        "class Porche(Vehicle):\n",
        "  def vehicle_sound(self):\n",
        "    return\"Bhurum Bhurum, Hot\"\n",
        "\n",
        "class Mercedes(Vehicle):\n",
        "  def vehicle_sound(self):\n",
        "    return \"Silnt Killer, Crush\"\n",
        "\n",
        "class G_wagon63(Vehicle):\n",
        "  def vehicle_sound(self):\n",
        "    return \"The Beast , will purchase first after salary, first love\"\n",
        "\n",
        "vehicles = Porche(),Mercedes(),G_wagon63()\n",
        "\n",
        "\n",
        "\n",
        "\n",
        "\n",
        "\n",
        "\n",
        "\n"
      ],
      "metadata": {
        "id": "UvPKItdjm6GX"
      },
      "execution_count": null,
      "outputs": []
    },
    {
      "cell_type": "code",
      "source": [
        "#problem no 42:-\n",
        "\n",
        "\"\"\"\n",
        "\n",
        "How does Python achieve polymorphism through method overriding\n",
        "\n",
        "\"\"\"\n",
        "\n",
        "#solution:-\n",
        "\n",
        "\"\"\"\n",
        "Python achieves polymorphism through method overriding by allowing\n",
        "subclasses to provide a specific implementation of a method that is\n",
        " already defined in a superclass.\n",
        "\n",
        "\"\"\"\n",
        "\n",
        "class Duck():\n",
        "  def swim(self):\n",
        "    print(\"I can swim easily\")\n",
        "\n",
        "  def speaks(self):\n",
        "    print(\"Quack Quack\")\n",
        "\n",
        "class Dog():\n",
        "  def swim(self):\n",
        "    print(\"Im dog i can swim fastly\")\n",
        "\n",
        "  def speaks(self):\n",
        "    print(\"Bhow Bhow\")\n",
        "\n",
        "class Display:\n",
        "  def show_info(animal):\n",
        "\n",
        "      animal.swim()\n",
        "      animal.speaks()\n",
        "      print(\"Information displayed\")\n",
        "\n",
        "d = Duck()\n",
        "dog = Dog()\n",
        "\n"
      ],
      "metadata": {
        "id": "Q3ZUFAlvm6Jp"
      },
      "execution_count": null,
      "outputs": []
    },
    {
      "cell_type": "code",
      "source": [
        "#problem no 43:-\n",
        "\n",
        "\"\"\"\n",
        "Define a base class with a method and a subclass that overrides the method\n",
        "\n",
        "\"\"\"\n",
        "\n",
        "#solution:-\n",
        "\n",
        "\n",
        "class Base:\n",
        "  def animal_variety(self):\n",
        "    print(\"There is few animals\")\n",
        "\n",
        "class Upper_base(Base):\n",
        "  def animal_variety(self):\n",
        "    print(\"There is so many animals\")\n",
        "\n"
      ],
      "metadata": {
        "id": "1UplvbUNm6Ms"
      },
      "execution_count": null,
      "outputs": []
    },
    {
      "cell_type": "code",
      "source": [
        "#problem no 44:-\n",
        "\n",
        "\"\"\"\n",
        "Define a base class and multiple subclasses with overridden methods\n",
        "\"\"\"\n",
        "\n",
        "#solution:-\n",
        "\n",
        "\n",
        "\n",
        "class Base_class:\n",
        "  def my_method(self):\n",
        "    print(\"Im in nursery\")\n",
        "\n",
        "class Upper_class(Base_class):\n",
        "  def my_method(self):\n",
        "    print(\"Im in fifth class\")\n",
        "\n",
        "class Lower_class(Base_class):\n",
        "  def my_method(self):\n",
        "    print(\"Im in third class\")\n",
        "\n",
        "class Middle_class(Base_class):\n",
        "  def my_method(self):\n",
        "    print(\"Im in second class\")\n",
        "\n"
      ],
      "metadata": {
        "id": "dqU0XAGCm6P5"
      },
      "execution_count": null,
      "outputs": []
    },
    {
      "cell_type": "code",
      "source": [
        "#problem no 45:-\n",
        "\n",
        "\"\"\"\n",
        "How does polymorphism improve code readability and reusability\n",
        "\n",
        "\"\"\"\n",
        "\n",
        "#solution:-\n",
        "\n",
        "\n",
        "\"\"\"\n",
        "Readability:-\n",
        "\n",
        "In python , By using polymorphism developrs can write code that focuses on the common\n",
        "interface  without needing to worry about the specfic implementation details of each\n",
        "subclass. This abstraction makes the code more readable as it hides unnecessaty complexity.\n",
        "\n",
        "Reusability:-\n",
        "With polymorphism , new subclasses can be added without modifying existing code.\n",
        "As long as the new subclass adheres to the common interface defined in the superclass,\n",
        "it can seamlessly integrate with the existing codebase.Thsi promtes moduler\n",
        "design and reduces code duplication.\n",
        "\n",
        "\"\"\"\n",
        "\n",
        "\n",
        "\n",
        "\n",
        "\n"
      ],
      "metadata": {
        "id": "Hn_G9LLsm6S7"
      },
      "execution_count": null,
      "outputs": []
    },
    {
      "cell_type": "code",
      "source": [
        "#problem no 46:-\n",
        "\n",
        "\"\"\"\n",
        "Describe how Python supports polymorphism with duck typing\n",
        "\n",
        "\"\"\"\n",
        "\n",
        "#solution:-\n",
        "\n",
        "\"\"\"\n",
        "The python is a duck typing language it mean the data type of the variable has been\n",
        "changed as long as syntex is compatable.\n",
        "\n",
        "\n",
        "\"\"\"\n",
        "\n",
        "#Example :-\n",
        "\n",
        "class Duck():\n",
        "  def swim(self):\n",
        "    print(\"I can swim easily\")\n",
        "\n",
        "  def speaks(self):\n",
        "    print(\"Quack Quack\")\n",
        "\n",
        "class Dog():\n",
        "  def swim(self):\n",
        "    print(\"Im dog i can swim fastly\")\n",
        "\n",
        "  def speaks(self):\n",
        "    print(\"Bhow Bhow\")\n",
        "\n",
        "class Display:\n",
        "  def show_info(animal):\n",
        "\n",
        "      animal.swim()\n",
        "      animal.speaks()\n",
        "      print(\"Information displayed\")\n",
        "\n",
        "d = Duck()\n",
        "dog = Dog()\n",
        "\n",
        "\n",
        "\n"
      ],
      "metadata": {
        "id": "UIGBSs24m6WL"
      },
      "execution_count": null,
      "outputs": []
    },
    {
      "cell_type": "code",
      "source": [
        "Display.show_info(d)"
      ],
      "metadata": {
        "colab": {
          "base_uri": "https://localhost:8080/"
        },
        "id": "oQS9E0AjBTM5",
        "outputId": "fa45fb73-f68b-4381-8986-be0357570434"
      },
      "execution_count": null,
      "outputs": [
        {
          "output_type": "stream",
          "name": "stdout",
          "text": [
            "I can swim easily\n",
            "Quack Quack\n",
            "Information displayed\n"
          ]
        }
      ]
    },
    {
      "cell_type": "code",
      "source": [
        "#problem no 47:-\n",
        "\n",
        "\"\"\"\n",
        "How do you achieve encapsulation in Python\n",
        "\n",
        "\"\"\"\n",
        "\n",
        "#solution:-\n",
        "\n",
        "\"\"\"\n",
        "In python Encapsulation achieve through the access specfiers and property decorators.\n",
        "In python there is not have access specfiers built in support like java , c we have to be define own.\n",
        "\n",
        "\"\"\"\n",
        "\n",
        "\n",
        "\n",
        "\n",
        "\n"
      ],
      "metadata": {
        "id": "7Q7ARpCam6ZW"
      },
      "execution_count": null,
      "outputs": []
    },
    {
      "cell_type": "code",
      "source": [
        "#problem no 48:-\n",
        "\n",
        "\"\"\"\n",
        "Can encapsulation be bypassed in Python? If so, how\n",
        "\n",
        "\"\"\"\n",
        "\n",
        "#solution:-\n",
        "\n",
        "\"\"\"\n",
        "Yes , as Encapsulation is dynamic in python so it can be possible through the access specfiers,\n",
        "however, we  have to be defined proper access specfiers with proper syntax.\n",
        "\n",
        "\"\"\"\n",
        "\n",
        "\n",
        "\n",
        "\n"
      ],
      "metadata": {
        "id": "OJnFpW2lm6ch"
      },
      "execution_count": null,
      "outputs": []
    },
    {
      "cell_type": "code",
      "source": [
        "#problem no 49;- not done\n",
        "\n",
        "\"\"\"\n",
        "Implement a class BankAccount with a private balance attribute.\n",
        "Include methods to deposit, withdraw, and check the balance.\n",
        "\n",
        "\"\"\"\n",
        "\n",
        "#soultion;-\n",
        "\n",
        "class BankAccount:\n",
        "  def __init__(self,initial_balance = 0):\n",
        "    self._balance = initial_balance\n",
        "\n",
        "\n",
        "  def deposit(self,amount):\n",
        "    if amount > 0 :\n",
        "      self._balance += amount\n",
        "      print(f\"Deposited amount :-{amount} Final Amount:-{self._balance}\")\n",
        "    else:\n",
        "      print(\"Enter the proper amount\")\n",
        "\n",
        "  def withdraw(self,amount):\n",
        "    if amount > 0 :\n",
        "      if self._balance >= amount:\n",
        "        self._balance -= amount\n",
        "        print(f\"Withdraw amount:-{amount} Balance amount:-{self._balance}\")\n",
        "      else:\n",
        "        print(\"Enter the correct amount\")\n",
        "    else:\n",
        "      print(\"Insufficient Funds\")\n",
        "\n",
        "  def get_ac_balance(self):\n",
        "    print(f\"Current balance:{self._balance}\")\n",
        "\n",
        "\n",
        "    account = BankAccount(1000)\n",
        "    account.get_ac_balance()\n",
        "    account.deposit(2000)\n",
        "    account.get_ac_balance()\n",
        "    account.withdraw(1000)\n",
        "\n",
        "\n",
        "\n"
      ],
      "metadata": {
        "id": "a9iIYxKMfGxe"
      },
      "execution_count": null,
      "outputs": []
    },
    {
      "cell_type": "code",
      "source": [
        "#problem no 50;-\n",
        "\n",
        "\"\"\"\n",
        "Develop a Person class with private attributes name and email,\n",
        "and methods to set and get the email\n",
        "\n",
        "\"\"\"\n",
        "\n",
        "#soultion;-\n",
        "\n",
        "class Person:\n",
        "  def __init__(self,name,email):\n",
        "    self.__name = name\n",
        "    self.__email = email\n",
        "\n",
        "  def set_email(self,email):\n",
        "    self.__email = email\n",
        "\n",
        "  def get_email(self,email):\n",
        "    return self.__email\n",
        "\n",
        "\n",
        "\n",
        "\n",
        "p = Person(\"Pranay\",\"pranaybhoyar200@gmail.com\")\n",
        "\n",
        "p.set_email(\"pranaybhoyar200@gmail.com\")\n",
        "\n",
        "\n"
      ],
      "metadata": {
        "id": "sUCMYBPom6f4"
      },
      "execution_count": 7,
      "outputs": []
    },
    {
      "cell_type": "code",
      "source": [
        "#problem no 51;-\n",
        "\n",
        "\"\"\"\n",
        "Why is encapsulation considered a pillar of object-oriented programming (OOP)?\n",
        "\n",
        "\"\"\"\n",
        "\n",
        "#soultion;-\n",
        "\n",
        "\"\"\"\n",
        "\n",
        "In python encapsulation , is one of the fuction from 4 pillers of python,\n",
        "1;- inheritance\n",
        "2:- Abstraction\n",
        "3:- polymerphism\n",
        "4:- encapsulation\n",
        "\n",
        "Every function has their own method , encapsulation is used to hide the data from the user.\n",
        "\n",
        "\"\"\"\n",
        "\n",
        "\n",
        "\n",
        "\n",
        "\n",
        "\n",
        "\n"
      ],
      "metadata": {
        "id": "usNMXjg2m6jO"
      },
      "execution_count": null,
      "outputs": []
    },
    {
      "cell_type": "code",
      "source": [
        "#problem no 52;-\n",
        "\n",
        "\"\"\"\n",
        "Create a decorator in Python that adds functionality to a simple function by printing a message before\n",
        "and after the function execution\n",
        "\"\"\"\n",
        "\n",
        "#soultion;-\n",
        "\n",
        "def mydecorator(func):\n",
        "  def wrapper():\n",
        "    print(\"This massage will printed before the function\")\n",
        "    func()\n",
        "    print(\"This massage will printed after the function\")\n",
        "  return wrapper\n",
        "\n",
        "@mydecorator\n",
        "def say_hello():\n",
        "  print(\"This is add additionally\")\n",
        "\n",
        "\n",
        "\n",
        "\n",
        "\n",
        "\n",
        "\n"
      ],
      "metadata": {
        "id": "zS3uaJGnm6mb"
      },
      "execution_count": 14,
      "outputs": []
    },
    {
      "cell_type": "code",
      "source": [
        "#problem no 53;-\n",
        "\n",
        "\"\"\"\n",
        "Modify the decorator to accept arguments and print the function name along\n",
        " with the message\n",
        "\"\"\"\n",
        "\n",
        "#soultion;-\n",
        "\n",
        "def my_decorator_arguments(message):\n",
        "  def decorator(func):\n",
        "    def wrapper(*args, **kwargs):\n",
        "      print(f\"Function {func.__name__} says:{message}\")\n",
        "      return func(*args,**kwargs)\n",
        "    return wrapper\n",
        "  return decorator\n",
        "\n",
        "@my_decorator_arguments(\"ddff\")\n",
        "def sample_func():\n",
        "  print(\"Hii this is pranay\")\n",
        "\n",
        "\n",
        "\n",
        "sample_func()\n",
        "\n",
        "\n",
        "\n",
        "\n"
      ],
      "metadata": {
        "id": "EUJfQ-UMm6p2"
      },
      "execution_count": 26,
      "outputs": []
    },
    {
      "cell_type": "code",
      "source": [
        "#problem no 54;-\n",
        "\n",
        "\"\"\"\n",
        "  Create two decorators, and apply them to a single function.\n",
        "  Ensure that they execute in the order they are applied\n",
        "\n",
        "\"\"\"\n",
        "\n",
        "#soultion;-\n",
        "\n",
        "\n",
        "def starline(func):\n",
        "  def wrapper():\n",
        "\n",
        "      print(\"***************\\n\")\n",
        "      func()\n",
        "\n",
        "      print(\"***************\")\n",
        "\n",
        "  return wrapper\n",
        "\n",
        "def dashline(func):\n",
        "  def wrapper():\n",
        "    print(\"-------------------\")\n",
        "    func()\n",
        "    print(\"------------------\")\n",
        "\n",
        "@starline\n",
        "def display():\n",
        "  print(\"Welcome to the virtal world \\nThis is the game of simulation\\n\")\n",
        "\n",
        "\n",
        "\n",
        "\n",
        "\n",
        "\n",
        "\n",
        "\n"
      ],
      "metadata": {
        "id": "OU1Q0rRmm6t2"
      },
      "execution_count": 70,
      "outputs": []
    },
    {
      "cell_type": "code",
      "source": [
        "#problem no 55;-\n",
        "\n",
        "\"\"\"\n",
        "Modify the decorator to accept and pass function arguments to the wrapped function\n",
        "\n",
        "\"\"\"\n",
        "\n",
        "#soultion;-\n",
        "\n",
        "def my_decorator_arguments(message):\n",
        "  def decorator(func):\n",
        "    def wrapper(*args, **kwargs):\n",
        "      print(f\"Function {func.__name__} says:{message}\")\n",
        "      return func(*args,**kwargs)\n",
        "    return wrapper\n",
        "  return decorator\n",
        "\n",
        "@my_decorator_arguments(\"hii formt eh decorator\")\n",
        "def sample_func(arg1,arg2):\n",
        "  print(f\"example function:- {arg1},{arg2}\")\n",
        "\n",
        "sample_func(\"value1\",\"value2\")\n",
        "\n",
        "\n",
        "\n"
      ],
      "metadata": {
        "id": "4VT3Ib7Woyze",
        "colab": {
          "base_uri": "https://localhost:8080/"
        },
        "outputId": "d75ba3ed-3142-49d7-c482-57babe74c64c"
      },
      "execution_count": 31,
      "outputs": [
        {
          "output_type": "stream",
          "name": "stdout",
          "text": [
            "Function sample_func says:hii formt eh decorator\n",
            "example function:- value1,value2\n"
          ]
        }
      ]
    },
    {
      "cell_type": "code",
      "source": [
        "#problem no 56;-\n",
        "\n",
        "\"\"\"\n",
        "\n",
        "Create a decorator that preserves the metadata of the original function\n",
        "\n",
        "\"\"\"\n",
        "\n",
        "#soultion;-\n",
        "\n",
        "# for defining metadata we have to import functools\n",
        "\n",
        "import functools\n",
        "\n",
        "def first_data(original_func):\n",
        "    \"\"\"\n",
        "    This is data\n",
        "    \"\"\"\n",
        "\n",
        "    @functools.wraps(original_func)\n",
        "    def second_data(*args, **kwargs):\n",
        "        \"\"\"\n",
        "        This is second data\n",
        "        \"\"\"\n",
        "        return original_func(*args, **kwargs)\n",
        "\n",
        "    return second_data\n",
        "\n",
        "\n",
        "\n",
        "\n"
      ],
      "metadata": {
        "id": "w3EIBfoxoy3J"
      },
      "execution_count": 50,
      "outputs": []
    },
    {
      "cell_type": "code",
      "source": [
        "#problem no 57;-\n",
        "\n",
        "\"\"\"\n",
        "\n",
        "Create a Python class `Calculator` with a static method `add` that takes in\n",
        " two numbers and returns their sum\n",
        "\n",
        "\"\"\"\n",
        "\n",
        "#soultion;-\n",
        "\n",
        "class Calculator():\n",
        "  @staticmethod\n",
        "  def addition_(a,b):\n",
        "      return a+b\n",
        "\n",
        "\n",
        "result = Calculator.addition_(2,3)\n",
        "\n",
        "print(\"The sum of two numbers:- \", result)\n",
        "\n"
      ],
      "metadata": {
        "id": "CfqJ49m1oy6G"
      },
      "execution_count": null,
      "outputs": []
    },
    {
      "cell_type": "code",
      "source": [
        "#problem no 58;-\n",
        "\n",
        "\"\"\"\n",
        "Create a Python class `Employee` with a class `method get_employee_count`\n",
        " that returns the total number of employees created\n",
        "\n",
        "\"\"\"\n",
        "\n",
        "#soultion;-\n",
        "\n",
        "class Employee:\n",
        "  employee_count = 0\n",
        "\n",
        "  def __init__(self,name):\n",
        "    self.name = name\n",
        "    Employee.employee_count += 1\n",
        "\n",
        "  @classmethod\n",
        "  def get_employee_count(cls):\n",
        "    return cls.employee_count\n",
        "\n",
        "\n",
        "emp1 = Employee(\"Pranay\")\n",
        "emp2 = Employee(\"Bhoyar\")\n",
        "\n",
        "print(\"Total number of employees :\", Employee.get_employee_count())\n",
        "\n",
        "\n",
        "\n"
      ],
      "metadata": {
        "id": "2c0mBZ2Moy9Z"
      },
      "execution_count": null,
      "outputs": []
    },
    {
      "cell_type": "code",
      "source": [
        "#problem no 59;-\n",
        "\n",
        "\"\"\"\n",
        "Create a Python class `StringFormatter` with a static method `reverse_string`\n",
        "that takes a string as input and returns its reverse\n",
        "\n",
        "\"\"\"\n",
        "\n",
        "#soultion;-\n",
        "\n",
        "class StringFormatter:\n",
        "  def reverse_string(self, input_string):\n",
        "    return input_string[::-1]\n",
        "\n",
        "\n",
        "\n",
        "\n",
        "reverse = StringFormatter()\n",
        "input_string = \"Pranay Bhoyar\"\n",
        "final_text = reverse.reverse_string(input_string)\n",
        "print(\"Reversed String\", final_text)\n",
        "\n",
        "\n"
      ],
      "metadata": {
        "id": "oHwNgILNozAk"
      },
      "execution_count": null,
      "outputs": []
    },
    {
      "cell_type": "code",
      "source": [
        "#problem no 60;-\n",
        "\n",
        "\"\"\"\n",
        "Create a Python class `Circle` with a class method `calculate_area`\n",
        "that calculates the area of a circle given its radius\n",
        "\n",
        "\"\"\"\n",
        "\n",
        "#soultion;-\n",
        "\n",
        "class Circle:\n",
        "  @classmethod\n",
        "  def calculate_area(cls,radius):\n",
        "    if radius > 0:\n",
        "      return 3.14 * radius ** 2\n",
        "    else:\n",
        "\n",
        "    print(\"Error\")\n",
        "    return None\n",
        "\n",
        "\n",
        "\n",
        "\n"
      ],
      "metadata": {
        "id": "OhfE4q6IozD2"
      },
      "execution_count": null,
      "outputs": []
    },
    {
      "cell_type": "code",
      "source": [
        "#problem no 61;-\n",
        "\n",
        "\"\"\"\n",
        "Create a Python class `TemperatureConverter` with a static method `\n",
        "celsius_to_fahrenheit` that converts Celsius to Fahrenheit\n",
        "\n",
        "\"\"\"\n",
        "\n",
        "#soultion;-\n",
        "\n",
        "class TemperatureConverter:\n",
        "  @staticmethod\n",
        "  def celcius_to_faranite(tempreature):\n",
        "    print(\"Tempreature in fahrenheit is :-\",tempreature * (9/5)+32)\n",
        "\n",
        "\n",
        "\n",
        "\n",
        "temp = TemperatureConverter()\n",
        "temp.celcius_to_faranite(40)\n",
        "\n"
      ],
      "metadata": {
        "id": "QyVM0_4WozHE",
        "colab": {
          "base_uri": "https://localhost:8080/"
        },
        "outputId": "5f35b3d7-2d15-48f0-8e8f-15f6d7c9086d"
      },
      "execution_count": 79,
      "outputs": [
        {
          "output_type": "stream",
          "name": "stdout",
          "text": [
            "Tempreature in fahrenheit is :- 104.0\n"
          ]
        }
      ]
    },
    {
      "cell_type": "code",
      "source": [
        "#problem no 62;-\n",
        "\n",
        "\"\"\"\n",
        "What is the purpose of the __str__() method in Python classes?\n",
        "Provide an example\n",
        "\n",
        "\"\"\"\n",
        "\n",
        "#soultion;-\n",
        "\n",
        "\"\"\"\n",
        "In python by using this __str__ method we can print the object in string function\n",
        "\n",
        "Also, the '__str__()' method in python classes is used to define human-readable\n",
        "string representation of an object. its called when the str()   function is used\n",
        "on the object or when the object is used in a string context,\n",
        "\"\"\"\n",
        "\n",
        "class Author:\n",
        "  def __init__(self , name, book_name , roll_no):\n",
        "    self.name = name\n",
        "    self.book_name = book_name\n",
        "    self.roll_no = roll_no\n",
        "\n",
        "  def __str__(self):\n",
        "    return f\" My name is {self.name} and i want book {self.book_name} and my roll no is {self.roll_no}\"\n",
        "\n",
        "\n",
        "    d = Author(\"Pranay\",\"Rich Dad Poor Dad\",2023)\n",
        "    print(d)\n",
        "\n",
        "\n"
      ],
      "metadata": {
        "id": "_PDfl0DBozKi"
      },
      "execution_count": null,
      "outputs": []
    },
    {
      "cell_type": "code",
      "source": [
        "#problem no 63;-\n",
        "\n",
        "\"\"\"\n",
        " How does the __len__() method work in Python? Provide an example\n",
        "\n",
        "\"\"\"\n",
        "\n",
        "#soultion;-\n",
        "\n",
        "\"\"\"\n",
        "The '__len__()' method in python is used to define the length of an object .\n",
        "its called when the built-in 'len()' function is used on the object\n",
        "\n",
        "\"\"\"\n",
        "\n",
        "\n",
        "\n",
        "class Author:\n",
        "  def __init__(self , name, book_name , roll_no):\n",
        "    self.name = name\n",
        "    self.book_name = book_name\n",
        "    self.roll_no = roll_no\n",
        "\n",
        "  def __len__(self):\n",
        "    return f\" My name is {self.name} and i want book {self.book_name} and my roll no is {self.roll_no}\"\n",
        "\n",
        "\n",
        "    d = Author\n",
        "    d = Author(\"Pranay\",\"Rich Dad Poor Dad\",2023)\n",
        "    print(d)\n",
        "    print(len(d))\n",
        "\n"
      ],
      "metadata": {
        "id": "E3KxbvI9ozOP"
      },
      "execution_count": 30,
      "outputs": []
    },
    {
      "cell_type": "code",
      "source": [
        "#problem no 64;-\n",
        "\n",
        "\"\"\"\n",
        " Explain the usage of the __add__() method in Python classes. Provide an example\n",
        "\"\"\"\n",
        "\n",
        "#soultion;-\n",
        "\n",
        "\"\"\"\n",
        "\n",
        "The __add__() method in Python is used to define the behavior of the\n",
        "addition operator (+) when applied to instances of a class.\n",
        "It allows objects of the class to support addition operations.\n",
        "\n",
        "\"\"\"\n",
        "\n",
        "class Number:\n",
        "  def __init__(self, value):\n",
        "    self.value = value\n",
        "\n",
        "  def __add__(self, addition_of_no):\n",
        "\n",
        "    return self.value + addition_of_no\n",
        "\n",
        "\n",
        "obj = Number(5)\n",
        "obj2 = obj + 2\n",
        "\n",
        "print(obj2)\n",
        "\n",
        "\n",
        "\n",
        "\n"
      ],
      "metadata": {
        "id": "YqzhRzW8ozRC",
        "colab": {
          "base_uri": "https://localhost:8080/"
        },
        "outputId": "d20909bd-3110-47ff-b43e-1e2412403e59"
      },
      "execution_count": 34,
      "outputs": [
        {
          "output_type": "stream",
          "name": "stdout",
          "text": [
            "7\n"
          ]
        }
      ]
    },
    {
      "cell_type": "code",
      "source": [
        "#problem no 65;-\n",
        "\n",
        "\"\"\"\n",
        "What is the purpose of the __getitem__() method in Python? Provide an example\n",
        "\n",
        "\"\"\"\n",
        "\n",
        "#soultion;-\n",
        "\n",
        "\"\"\"\n",
        "In python __getitem__() method is working like a find index number from list\n",
        "\n",
        "In this special method we allow instance of a class to support indexing\n",
        "operation , such as accessing elements\n",
        "\n",
        "\"\"\"\n",
        "\n",
        "class MyList:\n",
        "  def __init__(self,data):\n",
        "    self.data = data\n",
        "\n",
        "  def __getitem__(self, index):\n",
        "    return self.data[index]\n",
        "\n",
        "my_list = MyList([1,2,3,4,5,6])\n",
        "print(my_list[4])\n",
        "\n",
        "\n",
        "\n",
        "\n",
        "\n"
      ],
      "metadata": {
        "id": "kmAgZTm8ozUG",
        "colab": {
          "base_uri": "https://localhost:8080/"
        },
        "outputId": "aa172872-e824-40c7-991a-e62e5f1992e0"
      },
      "execution_count": 38,
      "outputs": [
        {
          "output_type": "stream",
          "name": "stdout",
          "text": [
            "5\n"
          ]
        }
      ]
    },
    {
      "cell_type": "code",
      "source": [
        "#problem no 66;-\n",
        "\n",
        "\"\"\"\n",
        "Explain the usage of the __iter__() and __next__() methods in Python. Provide an example using\n",
        "iterators\n",
        "\"\"\"\n",
        "\n",
        "#soultion;-\n",
        "\n",
        "\"\"\"\n",
        "In python the '__iter__()' and '__next__()' method are used to create  custom\n",
        "iterator for object .\n",
        "\"\"\"\n",
        "class MyIterator:\n",
        "  def __init__(self,limit):\n",
        "    self.limit = limit\n",
        "    self.current = 0\n",
        "\n",
        "  def __iter__(self):\n",
        "    return self\n",
        "\n",
        "  def __next__(self,):\n",
        "    if self.current < self.limit:\n",
        "        value = self.current\n",
        "        self.current += 1\n",
        "        return value\n",
        "\n",
        "    else:\n",
        "        raise StopIteration\n",
        "\n",
        "iterator = MyIterator(2)\n",
        "\n",
        "\n",
        "for num in iterator:\n",
        "  print(num)\n",
        "\n",
        "\n"
      ],
      "metadata": {
        "id": "joKk3iVBozX1",
        "colab": {
          "base_uri": "https://localhost:8080/"
        },
        "outputId": "2f53cbc2-aac7-45c9-8624-c745c49c65ea"
      },
      "execution_count": 47,
      "outputs": [
        {
          "output_type": "stream",
          "name": "stdout",
          "text": [
            "0\n",
            "1\n"
          ]
        }
      ]
    },
    {
      "cell_type": "code",
      "source": [
        "#problem no 67;-\n",
        "\n",
        "\"\"\"\n",
        "  What is the purpose of a getter method in Python? Provide an example demonstrating the use of a getter\n",
        "  method using property decorators.\n",
        "\n",
        "\"\"\"\n",
        "\n",
        "#soultion;-\n",
        "\"\"\"\n",
        "The purpose of a getter method in python is to provide controlled access to an object\n",
        "attributes particurly private attributes. it allows for encapsulation , which means hiding\n",
        "the internal state of an object and only exposing it through methods.\n",
        "\n",
        "\"\"\"\n",
        "\n",
        "class Circle:\n",
        "  def __init__(self,radius):\n",
        "    self.radius = radius\n",
        "\n",
        "  def radius(self):\n",
        "    return self.radius\n",
        "\n",
        "\n",
        "\n",
        "circle = Circle(6)\n",
        "\n",
        "print(circle.radius)\n",
        "\n",
        "\n",
        "\n"
      ],
      "metadata": {
        "id": "obf1PgV-qLen",
        "colab": {
          "base_uri": "https://localhost:8080/"
        },
        "outputId": "745bec41-506d-4e7a-9373-1e8b0a3ba93a"
      },
      "execution_count": 3,
      "outputs": [
        {
          "output_type": "stream",
          "name": "stdout",
          "text": [
            "6\n"
          ]
        }
      ]
    },
    {
      "cell_type": "code",
      "source": [
        "#problem no 68;-\n",
        "\n",
        "\"\"\"\n",
        "Explain the role of setter methods in Python.\n",
        "Demonstrate how to use a setter method to modify a class\n",
        "attribute using property decorators\n",
        "\n",
        "\"\"\"\n",
        "\n",
        "#soultion;-\n",
        "\n",
        "class Student:\n",
        "    def __init__(self,name,price):\n",
        "      self.__name = name\n",
        "      self.__price = price\n",
        "\n",
        "    @property\n",
        "    def access_price(self):\n",
        "      return self.__price\n",
        "\n",
        "    @access_price.setter\n",
        "    def price_set(self,price_new):\n",
        "        self.__price = price_new\n",
        "\n",
        "\n",
        "\n",
        "stud = Student(\"Pranay\",4000)\n",
        "stud.access_price\n"
      ],
      "metadata": {
        "id": "EkbB7dvrqLqc"
      },
      "execution_count": 38,
      "outputs": []
    },
    {
      "cell_type": "code",
      "execution_count": null,
      "metadata": {
        "id": "RG89qtEnkg6H"
      },
      "outputs": [],
      "source": [
        "#Problem no 69\n",
        "\"\"\"\n",
        "What is the use purpose of the @property decorator in python ? provide an example\n",
        "illustrating its usage\n",
        "\n",
        "\"\"\"\n",
        "\n",
        "#Solution:-\n",
        "\n",
        "\"\"\"\n",
        " The property decorators in python it allows us to define properties for a class.\n",
        " it allows us to access the method like an attribute without using paranthsis ()\n",
        "\n",
        " \"\"\"\n",
        "\n",
        "#code Example\n",
        "\n",
        "class My_property:\n",
        "  def __init__(self,length,breadth):\n",
        "    self.length = length\n",
        "    self.breadth = breadth\n",
        "    #length*breadth\n",
        "\n",
        "\n",
        "  @property\n",
        "  def calculation_of_property(self):\n",
        "    print( \"The calculation of property in square feet:-\",self.length * self.breadth)\n",
        "\n"
      ]
    },
    {
      "cell_type": "code",
      "source": [
        "#Problem no 70\n",
        "\"\"\"\n",
        "Explain the use of the @deleter decorator in python property decoratrs .\n",
        "provide a code example demonstrating its application\n",
        "\"\"\"\n",
        "\n",
        "#Solution;-\n",
        "\n",
        "\"\"\"\n",
        "In Python the deleter functionality is minimumly used to delete any function\n",
        "\n",
        "let suppose we have define a =  5 later we have deleted this by using deleter functionalities\n",
        "and later on we are tried to printing the value it reflects eror because we have deleted\n",
        "\n",
        "\"\"\"\n",
        "\n",
        "#Code:-\n",
        "\n",
        "class My_property:\n",
        "  def __init__(self,a,b):\n",
        "    self.a = a\n",
        "    self.b = b\n",
        "\n",
        "\n",
        "  @property\n",
        "  def calculation_of_two_variables(self):\n",
        "    print( \"The calculation of two variables:-\",self.a + self.b)\n",
        "\n",
        "\n",
        "\n",
        "    \"\"\"\n",
        "    step 1:- i have created a class variable\n",
        "    step 2:- using __init__ provide a value to variable a and b\n",
        "    setp 3:- assign a value to property variable and make additon for the same\n",
        "    Setp 4:- once its done after cross check i have deleted the calculation function\n",
        "\n",
        "    \"\"\"\n"
      ],
      "metadata": {
        "id": "6Ilefkbrp66L"
      },
      "execution_count": null,
      "outputs": []
    }
  ]
}